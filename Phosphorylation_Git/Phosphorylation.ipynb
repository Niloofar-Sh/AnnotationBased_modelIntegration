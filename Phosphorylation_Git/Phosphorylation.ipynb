{
 "cells": [
  {
   "cell_type": "code",
   "execution_count": 1,
   "metadata": {
    "code_folding": [
     0
    ]
   },
   "outputs": [
    {
     "name": "stderr",
     "output_type": "stream",
     "text": [
      "c:\\users\\nsha457\\appdata\\local\\programs\\python\\python37\\lib\\site-packages\\IPython\\core\\interactiveshell.py:3057: DtypeWarning: Columns (41,71,75,77,99,100,103,113,114,138,140,156,157,158,178,198) have mixed types.Specify dtype option on import or set low_memory=False.\n",
      "  interactivity=interactivity, compiler=compiler, result=result)\n",
      "c:\\users\\nsha457\\appdata\\local\\programs\\python\\python37\\lib\\site-packages\\IPython\\core\\interactiveshell.py:3057: DtypeWarning: Columns (31) have mixed types.Specify dtype option on import or set low_memory=False.\n",
      "  interactivity=interactivity, compiler=compiler, result=result)\n",
      "c:\\users\\nsha457\\appdata\\local\\programs\\python\\python37\\lib\\site-packages\\IPython\\core\\interactiveshell.py:3057: DtypeWarning: Columns (11,12,43) have mixed types.Specify dtype option on import or set low_memory=False.\n",
      "  interactivity=interactivity, compiler=compiler, result=result)\n"
     ]
    }
   ],
   "source": [
    "# Libraries\n",
    "import BondGraphTools as bgt\n",
    "import matplotlib.pyplot as plt\n",
    "from cycler import cycler\n",
    "import numpy as np\n",
    "import matplotlib.colors\n",
    "from pylab import rcParams\n",
    "import rdflib\n",
    "from lxml import etree\n",
    "import pandas\n",
    "import re\n",
    "import xml.etree.ElementTree as ET\n",
    "import copy\n",
    "import difflib\n",
    "import os\n",
    "import collections\n",
    "from collections import Counter\n",
    "\n",
    "FMA = pandas.read_csv('FMA.csv')\n",
    "CHEBI = pandas.read_csv('CHEBI.csv')\n",
    "OPB = pandas.read_csv('OPB.csv')\n",
    "GO = pandas.read_csv('GO.csv')\n",
    "\n",
    "\n",
    "fmaID = FMA['Class ID']\n",
    "fmaLabel= FMA['Preferred Label']\n",
    "chebiID = CHEBI['Class ID']\n",
    "chebiLabel= CHEBI['Preferred Label']\n",
    "opbID = OPB['Class ID']\n",
    "opbLabel= OPB['Preferred Label']\n",
    "goID = GO['Class ID']\n",
    "goLabel= GO['Preferred Label']"
   ]
  },
  {
   "cell_type": "markdown",
   "metadata": {},
   "source": [
    "/Users/nsha457/Documents/Jupyter_files/Annot_Merging/MAPK cascade/MAPK_L1.cellml\n",
    "/Users/nsha457/Documents/Jupyter_files/Annot_Merging/MAPK cascade/MAPK_L2.cellml"
   ]
  },
  {
   "cell_type": "code",
   "execution_count": 2,
   "metadata": {
    "code_folding": [
     0
    ]
   },
   "outputs": [],
   "source": [
    "def catRecognition():\n",
    "    \n",
    "    print('Please select the category of the models according to the following list:')\n",
    "    \n",
    "    print('\\n')\n",
    "    print('MAPK ==> insert \"m\"')\n",
    "\n",
    "    print('\\n')\n",
    "    \n",
    "    \n",
    "    category=[]\n",
    "    address=[]\n",
    "    \n",
    "    def askForMore(cat,add):\n",
    "        \n",
    "        c=input('Enter the category of the model : ')\n",
    "        c=difflib.get_close_matches(c, ['m'])\n",
    "        cat.append(c)\n",
    "        \n",
    "        add.append(input('Enter the location address for the corresponding file : '))\n",
    "        \n",
    "        more=input('More reactions?(Y/N)')\n",
    "     \n",
    "        if more.lower() == 'y':\n",
    "            [cat,add] = askForMore(cat,add)\n",
    "\n",
    "        elif more.lower() != 'y':\n",
    "            return [cat,add]        \n",
    "\n",
    "    askForMore(category,address)\n",
    "\n",
    "    return [category,address]"
   ]
  },
  {
   "cell_type": "code",
   "execution_count": 3,
   "metadata": {
    "code_folding": []
   },
   "outputs": [
    {
     "name": "stdout",
     "output_type": "stream",
     "text": [
      "Please select the category of the models according to the following list:\n",
      "\n",
      "\n",
      "MAPK ==> insert \"m\"\n",
      "\n",
      "\n",
      "Enter the category of the model : m\n",
      "Enter the location address for the corresponding file : /Users/nsha457/Documents/Jupyter_files/Annot_Merging/MAPK cascade/MAPK_L1.cellml\n",
      "More reactions?(Y/N)y\n",
      "Enter the category of the model : m\n",
      "Enter the location address for the corresponding file : /Users/nsha457/Documents/Jupyter_files/Annot_Merging/MAPK cascade/MAPK_L2.cellml\n",
      "More reactions?(Y/N)n\n"
     ]
    }
   ],
   "source": [
    "# Here, the category of each reaction is asked along with the file location. Enter the location of the cellml file \n",
    "# similar to the ones above (Markdown Cell)\n",
    "[categories,addresses]=catRecognition()"
   ]
  },
  {
   "cell_type": "code",
   "execution_count": 4,
   "metadata": {
    "code_folding": [
     0
    ]
   },
   "outputs": [],
   "source": [
    "def getAnnotations(add):\n",
    "    parser = etree.XMLParser(recover=True)\n",
    "    root = etree.parse(add, parser).getroot()\n",
    "    rdfGraph = rdflib.Graph()\n",
    "    for rdfElement in root.iter():\n",
    "        if rdfElement.tag.endswith('RDF'):\n",
    "            try:\n",
    "                rdfGraph.parse(data = etree.tostring(rdfElement))\n",
    "            except:\n",
    "                pass\n",
    "            \n",
    "    def getLeaves(sbj, graph):\n",
    "        triples = list(graph.triples((sbj,None,None)))\n",
    "        leaves = []\n",
    "        if len(triples)>0:\n",
    "            for s, p, o in triples:\n",
    "                result =  getLeaves(o,graph)\n",
    "                leaves += result\n",
    "            return list(set(leaves))\n",
    "        else:\n",
    "            return [sbj]\n",
    "        \n",
    "    # Opens the CellML file and returns the list of variables names\n",
    "    base=os.path.basename(add)\n",
    "    f = open(base,'r')\n",
    "    text = f.read()\n",
    "    root = ET.fromstring(text)\n",
    "\n",
    "    rdfs = root.findall('{http://www.w3.org/1999/02/22-rdf-syntax-ns#}RDF')\n",
    "\n",
    "    List1=[]\n",
    "    for child in rdfs:\n",
    "        for grand in child:\n",
    "            List1.append(grand.attrib.get('{http://www.w3.org/1999/02/22-rdf-syntax-ns#}about'))\n",
    "    \n",
    "    List = list(dict.fromkeys(List1))\n",
    "    List.remove('#metaid0')\n",
    "\n",
    "\n",
    "    triplesList={}\n",
    "    for i in range(len(List)):\n",
    "        sbj = rdflib.URIRef(List[i])\n",
    "        triplesList[i]=getLeaves(sbj, rdfGraph)\n",
    "\n",
    "        # In this part we match the number found in the rdf of the CellML file \n",
    "        # with the ones found in the \"Class IDs\" and \"Preferred Labels\"\n",
    "\n",
    "    annotations1={}\n",
    "\n",
    "    for i in range(len(triplesList)):\n",
    "        annotations1[i]=[]\n",
    "        for k in range(len(triplesList[i])):\n",
    "            l=triplesList[i][k]\n",
    "            if 'opb' in l: \n",
    "                numCell= re.findall(r'\\d+', l) # This will find any number in the string\n",
    "                for j in range(len(opbID)):\n",
    "                    numID=re.findall(r'\\d+', opbID[j])\n",
    "                    if numCell == numID:\n",
    "                        annotations1[i].append(opbLabel[j])\n",
    "            elif 'chebi' in l: \n",
    "                numCell= re.findall(r'\\d+', l) # This will find any number in the string\n",
    "                for j in range(len(chebiID)):\n",
    "                    numID=re.findall(r'\\d+', chebiID[j])\n",
    "                    if numCell == numID:\n",
    "                        annotations1[i].append(chebiLabel[j])\n",
    "            elif 'fma' in l: \n",
    "                numCell= re.findall(r'\\d+', l) # This will find any number in the string\n",
    "                for j in range(len(fmaID)):\n",
    "                    numID=re.findall(r'\\d+', fmaID[j])\n",
    "                    if numCell == numID:\n",
    "                        annotations1[i].append(fmaLabel[j])\n",
    "\n",
    "            elif 'go' in l: \n",
    "                numCell= re.findall(r'\\d+', l) # This will find any number in the string\n",
    "                for j in range(len(goID)):\n",
    "                    numID=re.findall(r'\\d+', goID[j])\n",
    "                    if numCell == numID:\n",
    "                        annotations1[i].append(goLabel[j])\n",
    "\n",
    "            elif 'thermodynamic constant' in l.lower():\n",
    "                annotations1[i].append('thermodynamic constant')\n",
    "\n",
    "\n",
    "    for i in range(len(annotations1)):\n",
    "        annotations1[i]=[x.lower() for x in annotations1[i]] \n",
    "\n",
    "    annotations = {}; k=0;\n",
    "\n",
    "    for key,value in annotations1.items():\n",
    "        if value not in annotations.values():\n",
    "            annotations[k] = value\n",
    "            k+=1\n",
    "\n",
    "    return [List,annotations,root]"
   ]
  },
  {
   "cell_type": "code",
   "execution_count": 5,
   "metadata": {
    "code_folding": [
     0
    ]
   },
   "outputs": [],
   "source": [
    "def valExtraction(annotations,root,List): # Extracting values from the cellml file\n",
    "    \n",
    "    keytoAmounts=[]; varID=[]; variables=[]; els=[]; init=[];\n",
    "\n",
    "    components = root.findall('{http://www.cellml.org/cellml/1.1#}component')\n",
    "\n",
    "\n",
    "    for comp in components:\n",
    "        variables.append(comp.findall('{http://www.cellml.org/cellml/1.1#}variable'))\n",
    "\n",
    "\n",
    "    for var in variables:\n",
    "        for v in var:   ################ Here search for the listID elements in the variables and initials\n",
    "            els.append(v.attrib['{http://www.cellml.org/metadata/1.0#}id'])   \n",
    "\n",
    "            if 'initial_value' in v.attrib: # if any initial value exists take it\n",
    "                init.append(v.attrib['initial_value'])    \n",
    "            else:\n",
    "                init.append(None)\n",
    "    return[els,init]"
   ]
  },
  {
   "cell_type": "code",
   "execution_count": 6,
   "metadata": {},
   "outputs": [],
   "source": [
    "listMAPK={}; annotationsMAPK={}; rootMAPK={};\n",
    "elementsMAPK={}; initialsMAPK={}; \n",
    "for i in range(len(categories)):\n",
    "    if categories[i][0] == 'm':\n",
    "        [listMAPK[str(i)],annotationsMAPK[str(i)],rootMAPK[str(i)]]=getAnnotations(addresses[i])        \n",
    "        [elementsMAPK[str(i)],initialsMAPK[str(i)]]=valExtraction(annotationsMAPK[str(i)],rootMAPK[str(i)],listMAPK[str(i)])\n",
    "                \n",
    "    else:\n",
    "        pass"
   ]
  },
  {
   "cell_type": "code",
   "execution_count": 7,
   "metadata": {},
   "outputs": [],
   "source": [
    "model=bgt.new(name='MAPK Cascades')"
   ]
  },
  {
   "cell_type": "code",
   "execution_count": 8,
   "metadata": {
    "code_folding": [
     0,
     157
    ]
   },
   "outputs": [],
   "source": [
    "def mapkModelMaker(Model,annotations): # MAPK loops BG model\n",
    "    \n",
    "    # Dictionaries containing the reference annotations for each MAPK cycle\n",
    "    mapkCascades={'mapk_Dict_1':{0: ['temperature'], # T \n",
    "            1: ['ideal gas constant'], # R                \n",
    "            2: ['concentration of chemical', 'atp binding'], # ATP\n",
    "            3: ['concentration of chemical', 'adp binding'], # ADP\n",
    "            4: ['concentration of chemical', 'phosphate ion binding'], # P\n",
    "            5: ['concentration of chemical', 'map kinase kinase kinase kinase activity'],  # MKKKK\n",
    "            6: ['concentration of chemical', 'map kinase kinase kinase activity'],  # MKKK\n",
    "            7: ['concentration of chemical', 'activation of mapkkk activity'], # MKKKP\n",
    "            8: ['map kinase phosphatase activity', 'concentration of chemical'], # MKKK_Pase\n",
    "            9: ['concentration of chemical','protein phosphorylation'], # C1\n",
    "            10: ['concentration of chemical','protein dephosphorylation'], # C2\n",
    "            11: ['concentration of chemical', 'thermodynamic constant', 'atp binding'], #K_ATP\n",
    "            12: ['concentration of chemical', 'thermodynamic constant', 'adp binding'], #K_ADP\n",
    "            13: ['thermodynamic constant', 'concentration of chemical', 'phosphate ion binding'], # K_P\n",
    "            14: ['map kinase kinase kinase kinase activity','thermodynamic constant','concentration of chemical'], # K_MKKKK\n",
    "            15: ['thermodynamic constant','concentration of chemical', 'map kinase kinase kinase activity'],  # K_MKKK\n",
    "            16: ['thermodynamic constant','concentration of chemical', 'activation of mapkkk activity'], # K_MKKKP\n",
    "            17: ['thermodynamic constant','map kinase phosphatase activity', 'concentration of chemical'], # K_MKKK_Pase\n",
    "            18: ['thermodynamic constant','concentration of chemical','protein phosphorylation'], # K_C1\n",
    "            19: ['concentration of chemical','protein dephosphorylation','thermodynamic constant'], # K_C2\n",
    "            20: ['reaction rate constant','map kinase kinase kinase activity','phosphorylation','atp binding'], # r1\n",
    "            21: ['adp binding','activation of mapkkk activity', 'phosphorylation','reaction rate constant'], # r2\n",
    "            22: ['adp binding', 'activation of mapkkk activity', 'dephosphorylation', 'reaction rate constant'], # r3\n",
    "            23: ['dephosphorylation','activation of mapkkk activity', 'phosphate ion binding','reaction rate constant']}, # r4  \n",
    "\n",
    "\n",
    "            'mapk_Dict_2':{0: ['temperature'], # T \n",
    "            1: ['ideal gas constant'], # R                \n",
    "            2: ['concentration of chemical', 'atp binding'], # ATP\n",
    "            3: ['concentration of chemical', 'adp binding'], # ADP\n",
    "            4: ['concentration of chemical', 'phosphate ion binding'], # P\n",
    "            5: ['concentration of chemical', 'map kinase kinase activity'],  # MKK\n",
    "            6: ['concentration of chemical', 'activation of mapkk activity'], # MKKP\n",
    "            7: ['concentration of chemical', 'activation of mapkkk activity'], # E1=MKKKP\n",
    "            8: ['concentration of chemical', 'phosphatase activity'], # E2=MKK_Pase\n",
    "            9: ['concentration of chemical','protein phosphorylation'], # C1\n",
    "            10: ['concentration of chemical','protein dephosphorylation'], # C2\n",
    "            11: ['concentration of chemical', 'thermodynamic constant', 'atp binding'], #K_ATP\n",
    "            12: ['concentration of chemical', 'thermodynamic constant', 'adp binding'], #K_ADP\n",
    "            13: ['thermodynamic constant', 'concentration of chemical', 'phosphate ion binding'], # K_P\n",
    "            14: ['thermodynamic constant','concentration of chemical', 'map kinase kinase activity'],  # K_MKK\n",
    "            15: ['thermodynamic constant','concentration of chemical', 'activation of mapkk activity'], # K_MKKP\n",
    "            16: ['thermodynamic constant','concentration of chemical', 'activation of mapkkk activity'], # K_E1=K_MKKKP\n",
    "            17: ['thermodynamic constant','concentration of chemical', 'phosphatase activity'], #K_E2\n",
    "            18: ['thermodynamic constant','concentration of chemical','protein phosphorylation'], # K_C1\n",
    "            19: ['thermodynamic constant','concentration of chemical','protein dephosphorylation'], # K_C2\n",
    "            20: ['reaction rate constant','map kinase kinase activity','phosphorylation','atp binding'], # r1\n",
    "            21: ['adp binding','activation of mapkk activity', 'phosphorylation','reaction rate constant'], # r2\n",
    "            22: ['adp binding', 'activation of mapkk activity', 'dephosphorylation', 'reaction rate constant'], # r3\n",
    "            23: ['dephosphorylation','map kinase kinase activity', 'phosphate ion binding','reaction rate constant']}} # r4\n",
    "\n",
    "\n",
    "    # Counting the number of unique entities in each loop to detect the loop\n",
    "    # Based on a number of specific entities, the number of the loop in the MAPK cascade is determined\n",
    "    \n",
    "    E1={}; E2={}; C1={}; C2={}; M={}; MP={}; ATP={}; ADP={}; P={}; Re1={}; Re2={}; Re3={}; Re4={}; zeroJunctionE1={};\n",
    "    zeroJunctionE2={}; zeroJunctionC1={}; zeroJunctionC2={}; zeroJunctionM={}; zeroJunctionMP={}; zeroJunctionATP={};\n",
    "    zeroJunctionADP={}; zeroJunctionP={}; oneJunctionReactantsRe1={}; oneJunctionProductsRe2={}; oneJunctionReactantsRe3={}; \n",
    "    oneJunctionProductsRe4={}; \n",
    "    \n",
    "    # Finding the loop which each input file corresponds to:\n",
    "    for a in range(len(annotations)):\n",
    "        MKKKK_found=0; MKKK_found=0; MKKKP_found=0; \n",
    "        MKK_found=0; MKKp_found=0;\n",
    "        for aa in range(len(annotations[str(a)])): \n",
    "            if 'map kinase kinase kinase kinase activity' in annotations[str(a)][aa]:# MKKKK\n",
    "                MKKKK_found+=1\n",
    "            elif 'map kinase kinase kinase activity' in annotations[str(a)][aa]: # MKKK\n",
    "                MKKK_found+=1\n",
    "            elif 'activation of mapkkk activity' in annotations[str(a)][aa]: # MKKKP ==> Common component\n",
    "                MKKKP_found+=1\n",
    "            elif 'map kinase kinase activity' in annotations[str(a)][aa]: # MKK\n",
    "                MKK_found+=1\n",
    "            elif 'activation of mapkk activity' in annotations[str(a)][aa]: # MKKP\n",
    "                MKKp_found+=1    \n",
    "                \n",
    "        if MKKKK_found != 0 and MKKK_found != 0 and MKKKP_found != 0: # It's the first loop in the cascade\n",
    "            Loop1=a; # The index of the file that is the first loop\n",
    "            # BG \"C\" components\n",
    "            E1[a] = bgt.new(\"Ce\", name=set(list(mapkCascades.values())[0][5]), library=\"BioChem\")  # MKKKK\n",
    "            E2[a] = bgt.new(\"Ce\", name=set(list(mapkCascades.values())[0][8]), library=\"BioChem\")  # MKKK_Pase\n",
    "            C1[a] = bgt.new(\"Ce\", name=set(list(mapkCascades.values())[0][9]), library=\"BioChem\")\n",
    "            C2[a] = bgt.new(\"Ce\", name=set(list(mapkCascades.values())[0][10]), library=\"BioChem\")\n",
    "            M[a] = bgt.new(\"Ce\", name=set(list(mapkCascades.values())[0][6]), library=\"BioChem\")   # MKKK\n",
    "            MP[a] = bgt.new(\"Ce\", name=set(list(mapkCascades.values())[0][7]), library=\"BioChem\")  # MKKKP\n",
    "            ATP[a] = bgt.new(\"Ce_S\", name=set(list(mapkCascades.values())[0][2]), library=\"BioChem\")\n",
    "            ADP[a] = bgt.new(\"Ce_S\", name=set(list(mapkCascades.values())[0][3]), library=\"BioChem\")\n",
    "            P[a] = bgt.new(\"Ce_S\", name=set(list(mapkCascades.values())[0][4]), library=\"BioChem\")\n",
    "\n",
    "            # Reactions\n",
    "            Re1[a] = bgt.new(\"Re\" , name=set(list(mapkCascades.values())[0][20]) , library=\"BioChem\")\n",
    "            Re2[a] = bgt.new(\"Re\" , name=set(list(mapkCascades.values())[0][21]) , library=\"BioChem\")\n",
    "            Re3[a] = bgt.new(\"Re\" , name=set(list(mapkCascades.values())[0][22]) , library=\"BioChem\")\n",
    "            Re4[a] = bgt.new(\"Re\" , name=set(list(mapkCascades.values())[0][23]) , library=\"BioChem\")\n",
    "\n",
    "            # Junctions\n",
    "            zeroJunctionE1[a] = bgt.new(\"0\", name=set(list(mapkCascades.values())[0][5]))\n",
    "            zeroJunctionE2[a] = bgt.new(\"0\", name=set(list(mapkCascades.values())[0][8]))\n",
    "            zeroJunctionC1[a] = bgt.new(\"0\", name=set(list(mapkCascades.values())[0][9]))\n",
    "            zeroJunctionC2[a] = bgt.new(\"0\", name=set(list(mapkCascades.values())[0][10]))\n",
    "            zeroJunctionM[a] = bgt.new(\"0\", name=set(list(mapkCascades.values())[0][6]))\n",
    "            zeroJunctionMP[a] = bgt.new(\"0\", name=set(list(mapkCascades.values())[0][7]))\n",
    "            zeroJunctionATP[a] = bgt.new(\"0\", name=set(list(mapkCascades.values())[0][2]))\n",
    "            zeroJunctionADP[a] = bgt.new(\"0\", name=set(list(mapkCascades.values())[0][3]))\n",
    "            zeroJunctionP[a] = bgt.new(\"0\", name=set(list(mapkCascades.values())[0][4]))\n",
    "            oneJunctionReactantsRe1[a] = bgt.new(\"1\", name=set(list(mapkCascades.values())[0][20]))\n",
    "            oneJunctionProductsRe2[a] = bgt.new(\"1\", name=set(list(mapkCascades.values())[0][21]))\n",
    "            oneJunctionReactantsRe3[a] = bgt.new(\"1\", name=set(list(mapkCascades.values())[0][22]))\n",
    "            oneJunctionProductsRe4[a] = bgt.new(\"1\", name=set(list(mapkCascades.values())[0][23]))\n",
    "\n",
    "\n",
    "\n",
    "        # if MKK & MKKKP & MKKP are found, the cellml file corresponds to the \"second\" cycle\n",
    "\n",
    "        elif MKK_found != 0 and MKKp_found != 0 and MKKKP_found != 0:\n",
    "            Loop2=a; # The index of the file that is the second loop\n",
    "            # BG \"C\" components\n",
    "            E1[a] = bgt.new(\"Ce\", name=set(list(mapkCascades.values())[1][7]), library=\"BioChem\")  # E1=MKKKP\n",
    "            E2[a] = bgt.new(\"Ce\", name=set(list(mapkCascades.values())[1][8]), library=\"BioChem\")  # E2=MKK_Pase\n",
    "            C1[a] = bgt.new(\"Ce\", name=set(list(mapkCascades.values())[1][9]), library=\"BioChem\")  # C1\n",
    "            C2[a] = bgt.new(\"Ce\", name=set(list(mapkCascades.values())[1][10]), library=\"BioChem\") # C2\n",
    "            M[a] = bgt.new(\"Ce\", name=set(list(mapkCascades.values())[1][5]), library=\"BioChem\")    #MKK\n",
    "            MP[a] = bgt.new(\"Ce\", name=set(list(mapkCascades.values())[1][6]), library=\"BioChem\")   #MKKP\n",
    "            ATP[a] = bgt.new(\"Ce_S\", name=set(list(mapkCascades.values())[1][2]), library=\"BioChem\")\n",
    "            ADP[a] = bgt.new(\"Ce_S\", name=set(list(mapkCascades.values())[1][3]), library=\"BioChem\")\n",
    "            P[a] = bgt.new(\"Ce_S\", name=set(list(mapkCascades.values())[1][4]), library=\"BioChem\")\n",
    "\n",
    "            # Reactions\n",
    "            Re1[a] = bgt.new(\"Re\" , name=set(list(mapkCascades.values())[1][20]) , library=\"BioChem\")\n",
    "            Re2[a] = bgt.new(\"Re\" , name=set(list(mapkCascades.values())[1][21]) , library=\"BioChem\")\n",
    "            Re3[a] = bgt.new(\"Re\" , name=set(list(mapkCascades.values())[1][22]) , library=\"BioChem\")\n",
    "            Re4[a] = bgt.new(\"Re\" , name=set(list(mapkCascades.values())[1][23]) , library=\"BioChem\")\n",
    "\n",
    "            # Junctions\n",
    "            zeroJunctionE1[a] = bgt.new(\"0\", name=set(list(mapkCascades.values())[1][7]))\n",
    "            zeroJunctionE2[a] = bgt.new(\"0\", name=set(list(mapkCascades.values())[1][8]))\n",
    "            zeroJunctionC1[a] = bgt.new(\"0\", name=set(list(mapkCascades.values())[1][9]))\n",
    "            zeroJunctionC2[a] = bgt.new(\"0\", name=set(list(mapkCascades.values())[1][10]))\n",
    "            zeroJunctionM[a] = bgt.new(\"0\", name=set(list(mapkCascades.values())[1][5]))\n",
    "            zeroJunctionMP[a] = bgt.new(\"0\", name=set(list(mapkCascades.values())[1][6]))\n",
    "            zeroJunctionATP[a] = bgt.new(\"0\", name=set(list(mapkCascades.values())[1][2]))\n",
    "            zeroJunctionADP[a] = bgt.new(\"0\", name=set(list(mapkCascades.values())[1][3]))\n",
    "            zeroJunctionP[a] = bgt.new(\"0\", name=set(list(mapkCascades.values())[1][4]))\n",
    "            oneJunctionReactantsRe1[a] = bgt.new(\"1\", name=set(list(mapkCascades.values())[1][20]))\n",
    "            oneJunctionProductsRe2[a] = bgt.new(\"1\", name=set(list(mapkCascades.values())[1][21]))\n",
    "            oneJunctionReactantsRe3[a] = bgt.new(\"1\", name=set(list(mapkCascades.values())[1][22]))\n",
    "            oneJunctionProductsRe4[a] = bgt.new(\"1\", name=set(list(mapkCascades.values())[1][23]))\n",
    "   \n",
    "\n",
    "    \n",
    "    # Dictionary containing the generated BG components (\"Components\")\n",
    "    Components={}; mergeableComponents={}\n",
    "    for a in range(len(annotations)):\n",
    "\n",
    "        Components[str(a)]={0:E1[a], 1:E2[a], 2:C1[a], 3:C2[a], 4:M[a], 5:MP[a], \n",
    "                  6:ATP[a], 7:ADP[a], 8:P[a], 9:Re1[a], 10:Re2[a], 11:Re3[a],\n",
    "                  12:Re4[a],13:zeroJunctionE1[a],14:zeroJunctionE2[a],15:zeroJunctionC1[a],\n",
    "                  16:zeroJunctionC2[a],17:zeroJunctionM[a],18:zeroJunctionMP[a],19:zeroJunctionATP[a],\n",
    "                  20:zeroJunctionADP[a], 21:zeroJunctionP[a],22:oneJunctionReactantsRe1[a],\n",
    "                  23:oneJunctionProductsRe2[a], 24:oneJunctionReactantsRe3[a], 25:oneJunctionProductsRe4[a]} \n",
    "        \n",
    "         # List of mergeable components along with their corresponding junctions for later merging (\"mergeableComponents\")\n",
    "        #For now, C1 & C2 are not considered among mergeable components despite having the same annotations!\n",
    "        #Maybe later will be added ....\n",
    "        mergeableComponents[str(a)]={E1[a], E2[a], M[a], MP[a], ATP[a], ADP[a], P[a],zeroJunctionE1[a], \n",
    "                                     zeroJunctionE2[a], zeroJunctionM[a],zeroJunctionMP[a], zeroJunctionATP[a], \n",
    "                                     zeroJunctionADP[a],zeroJunctionP[a]}  \n",
    "    \n",
    "       \n",
    "        \n",
    "    # Connectivity Matrix for one cycle\n",
    "    connectivityMatrix=np.zeros((26,26))\n",
    "    connectivityMatrix[9][15]=1; connectivityMatrix[10][23]=1; connectivityMatrix[11][16]=1; connectivityMatrix[12][25]=1; \n",
    "    connectivityMatrix[13][22]=1; connectivityMatrix[13][0]=1; connectivityMatrix[14][1]=1; connectivityMatrix[14][24]=1; \n",
    "    connectivityMatrix[15][2]=1; connectivityMatrix[15][10]=1; connectivityMatrix[16][3]=1; connectivityMatrix[16][12]=1; \n",
    "    connectivityMatrix[17][4]=1; connectivityMatrix[17][22]=1; connectivityMatrix[18][5]=1; connectivityMatrix[18][24]=1;\n",
    "    connectivityMatrix[19][6]=1; connectivityMatrix[19][22]=1; connectivityMatrix[20][7]=1; connectivityMatrix[21][8]=1; \n",
    "    connectivityMatrix[22][9]=1; connectivityMatrix[23][13]=1; connectivityMatrix[23][18]=1; connectivityMatrix[23][20]=1;\n",
    "    connectivityMatrix[24][11]=1; connectivityMatrix[25][14]=1; connectivityMatrix[25][17]=1; connectivityMatrix[25][21]=1; \n",
    "    \n",
    "    \n",
    "    cm=[]\n",
    "    for i in range(len(connectivityMatrix)):\n",
    "        cm.append(list(connectivityMatrix[i])) # Connectivity Matrix for one module of MAPK cascade      \n",
    "\n",
    "    \n",
    "    \n",
    "                                \n",
    "            \n",
    "    return [mapkCascades,cm,mergeableComponents,Components,Loop1,Loop2]"
   ]
  },
  {
   "cell_type": "code",
   "execution_count": 9,
   "metadata": {},
   "outputs": [],
   "source": [
    "[mapkCascades,cmModule,mergeableComponents,Components,Loop1,Loop2]=mapkModelMaker(model,annotationsMAPK)"
   ]
  },
  {
   "cell_type": "code",
   "execution_count": 10,
   "metadata": {
    "code_folding": [
     0
    ]
   },
   "outputs": [],
   "source": [
    "def checkMutual(category,annotations,List,els,init): # Checking for similar annotations \n",
    "    \n",
    "    if len(category)>1: # if more than one reaction is added, there's a probability of mutual annotations\n",
    "        commonAnnots={}; #common annotations in the form of pairs of modules (k1,k2)\n",
    "        CommonAmountsA={};  # First element of the pair (firstModule,secondModule) stored in this dictionary\n",
    "        CommonAmountsB={};  # Second element of the pair (firstModule,secondModule) stored in this dictionary\n",
    "        \n",
    "        modelsNumber = len(annotations)  # The number of the input files (models)\n",
    "        i=0; k=-1;\n",
    "        while i <= modelsNumber-2:  # Finding common anotations between each pair of the modules\n",
    "            commonAnnots[str(i),str(i+1)]=[]\n",
    "            k+=1\n",
    "            CommonAmountsA[str(k)]=[]; CommonAmountsB[str(k)]=[]\n",
    "            for a1 in range(len(annotations[str(i)])):\n",
    "                for a2 in range(len(annotations[str(i+1)])):\n",
    "                    if set(annotations[str(i)][a1]) == set(annotations[str(i+1)][a2]) and annotations[str(i)][a1] !=[]:\n",
    "                        commonAnnots[str(i),str(i+1)].append(annotations[str(i)][a1]) \n",
    "                        varIDA=List[str(i)][a1].strip('#')\n",
    "                        for e in range(len(els[str(i)])):\n",
    "                            if varIDA == els[str(i)][e]:\n",
    "                                CommonAmountsA[str(k)].append(init[str(i)][e])\n",
    "\n",
    "                        varIDB=List[str(i+1)][a2].strip('#')\n",
    "                        for e in range(len(els[str(i+1)])):\n",
    "                            if varIDB == els[str(i+1)][e]:\n",
    "                                CommonAmountsB[str(k)].append(init[str(i+1)][e])  \n",
    "                        \n",
    "            i+=1\n",
    "            \n",
    "            \n",
    "    # Finding the variables with the same annotations and different values & ignoring the ones with same values    \n",
    "    commonAnnotsDiffVals=copy.deepcopy(commonAnnots)\n",
    "    for key in range(len(list(commonAnnotsDiffVals.keys()))): \n",
    "        for i in range(len(list(CommonAmountsA.keys()))):\n",
    "            for k in list(CommonAmountsA.values())[i][:]:\n",
    "                if k in list(CommonAmountsB.values())[i]:\n",
    "                    list(commonAnnotsDiffVals.values())[key].pop(list(CommonAmountsA.values())[i].index(k))\n",
    "                    list(CommonAmountsA.values())[i].remove(k)\n",
    "                    list(CommonAmountsB.values())[i].remove(k)\n",
    "    \n",
    "    \n",
    "    # Getting the preferred value from the user for the recognised same variables with different values\n",
    "    for i in range(len(list(commonAnnotsDiffVals.keys()))):\n",
    "        for j in range(len(list(commonAnnotsDiffVals.values())[i])):\n",
    "            print('Different values found for: ')\n",
    "            print('\\n')\n",
    "            print(list(commonAnnotsDiffVals.values())[i][j] , ':' , list(CommonAmountsA.values())[i][j] , 'and' , list(CommonAmountsB.values())[i][j])   \n",
    "            list(CommonAmountsA.values())[i][j]=copy.deepcopy(input('Enter the preferred value:'))\n",
    "            list(CommonAmountsB.values())[i][j]=copy.deepcopy(list(CommonAmountsA.values())[i][j])        \n",
    "               \n",
    "        \n",
    "        \n",
    "    # copying the changed values to the list of initial amounts of the model    \n",
    "    for i in range(len(list(commonAnnotsDiffVals.keys()))): # number of pairs of models \n",
    "        for j in range(len(list(commonAnnotsDiffVals.values())[i])):   \n",
    "            for k in range(len(annotations)): # here len(annotations) = 2\n",
    "                for f in range(len(annotations[str(k)])):\n",
    "                    if set(list(commonAnnotsDiffVals.values())[i][j]) == set(annotations[str(k)][f]):\n",
    "                        varID=List[str(k)][f].strip('#')\n",
    "                        for e in range(len(els)):\n",
    "                            for r in range(len(els[str(e)])):\n",
    "                                if varID == els[str(e)][r]: # Assigning the new values to the old ones in all the models\n",
    "                                    init[str(e)][r]=copy.deepcopy( list(CommonAmountsA.values())[i][j]) \n",
    "\n",
    "                        \n",
    "                  \n",
    "    return [commonAnnots, init]"
   ]
  },
  {
   "cell_type": "code",
   "execution_count": 11,
   "metadata": {},
   "outputs": [
    {
     "name": "stdout",
     "output_type": "stream",
     "text": [
      "Different values found for: \n",
      "\n",
      "\n",
      "['concentration of chemical', 'thermodynamic constant', 'activation of mapkkk activity'] : 1 and 0\n",
      "Enter the preferred value:2\n"
     ]
    }
   ],
   "source": [
    "[commonAnnots,initialsMAPK]=checkMutual(categories,annotationsMAPK,listMAPK,elementsMAPK,initialsMAPK)        "
   ]
  },
  {
   "cell_type": "code",
   "execution_count": 12,
   "metadata": {
    "code_folding": [
     0
    ]
   },
   "outputs": [],
   "source": [
    "# Detecting common components between the models along with their corresponding model number in modelNum_commonCompRemove\n",
    "# We need to delete (n-1) of each (n) common found component\n",
    "# By defining the modelNum_commonCompRemove, we exactly know which component is deleted from which model\n",
    "modelNum_commonCompRemove=[]; # List of common components between the models along with their corresponding model number\n",
    "for a in range(len(commonAnnots.keys())):   # check if the common annotations found, are among the mergeable components?\n",
    "    for aa in range(len(list(commonAnnots.values())[a])): \n",
    "        for m in range(len(mergeableComponents)):\n",
    "            for mm in range(len(mergeableComponents[str(m)])):\n",
    "                if set(list(commonAnnots.values())[a][aa]) == set(list(mergeableComponents[str(m)])[mm].name) and list(mergeableComponents[str(m)])[mm].metamodel == 'C': # if YES, find the corresponding species (C)\n",
    "                    for j in range(len(Components)):\n",
    "                        for k in range(len(list(Components.values())[j])):\n",
    "                            if set(list(mergeableComponents[str(m)])[mm].name) == set(list(Components.values())[j][k].name) and list(Components.values())[j][k].metamodel == 'C':\n",
    "                                modelNum_commonCompRemove.append(m) # model number for recognizing that each component belongs to which model\n",
    "                                modelNum_commonCompRemove.append(list(Components.values())[j][k]) \n",
    "                        break \n",
    "                            \n",
    "# if we have found (n) common components in (n) models, we need to remove (n-1) of them   \n",
    "res = []; length=len(modelNum_commonCompRemove); i=0\n",
    "while i<length:\n",
    "    if type(modelNum_commonCompRemove[i])!=int and set(modelNum_commonCompRemove[i].name) == set(modelNum_commonCompRemove[i+2].name):\n",
    "        modelNum_commonCompRemove.pop(i+1)\n",
    "        modelNum_commonCompRemove.pop(i+1)\n",
    "        length = copy.deepcopy(len(modelNum_commonCompRemove))\n",
    "        i+=1\n",
    "    else:\n",
    "        i+=1\n",
    "        \n",
    "# Creating a dictionary containing the initial connectivity matrices based on the number of the models.      \n",
    "modelNum=len(Components); # number of the models\n",
    "initialCMs={}\n",
    "for i in range(modelNum):\n",
    "    initialCMs[i]=copy.deepcopy(cmModule)\n",
    "    \n",
    "    \n",
    "\n",
    "keys=[]; models=[]; modelsToDelete=[];\n",
    "for i in range(len(modelNum_commonCompRemove)):\n",
    "    if type(modelNum_commonCompRemove[i]) == int:\n",
    "        for key,value in Components[str(modelNum_commonCompRemove[i])].items():\n",
    "            \n",
    "            if value.metamodel=='C' and value.name == modelNum_commonCompRemove[i+1].name :\n",
    "                models.append(modelNum_commonCompRemove[i])\n",
    "                keys.append(key)\n",
    "                \n",
    "                \n",
    "keysToDelete=sorted(keys,reverse=True)   \n",
    "for i in range(len(keys)): # Sort the model numbers based on the indices of the sorted keysToDelete\n",
    "    modelsToDelete.append(models[keysToDelete.index(keys[i])]) \n",
    "    \n",
    "    \n",
    "for m,k in zip(modelsToDelete,keysToDelete):\n",
    "    for j in range(len(initialCMs[m])):\n",
    "        del initialCMs[m][j][k]  # Remove the corresponding column in the CM \n",
    "    del initialCMs[m][k]  # Delete the corresponding row\n",
    "\n",
    "    del Components[str(m)][k] # Deleting the duplicate components\n",
    "\n",
    "    \n",
    "\n",
    "# Adding the components to the model\n",
    "for a in range(len(Components)):\n",
    "    for k,v in Components[str(a)].items():\n",
    "        bgt.add(model,v)        \n",
    "\n"
   ]
  },
  {
   "cell_type": "code",
   "execution_count": 13,
   "metadata": {
    "code_folding": [
     0,
     45
    ]
   },
   "outputs": [],
   "source": [
    "# Assigning the values based on the found annotations to the COMMON BG components such as Chemostats\n",
    "def valueAllocation(annotations,Loop1,Loop2,mapkCascades,List,els,init,Model):    \n",
    "    stateVarsInitials={}  # for getting the initial amounts of the state variables. \n",
    "    for i in range(len(annotations)):    \n",
    "            for a in range(len(annotations[str(i)])):\n",
    "                if i == Loop1:\n",
    "                    for k in range(0,2):\n",
    "                        if set(annotations[str(i)][a]) == set(list(mapkCascades.values())[0][k]):  #T & R\n",
    "                            varID=List[str(i)][a].strip('#')                \n",
    "                            for e in range(len(els[str(i)])):\n",
    "                                if varID == els[str(i)][e]:\n",
    "                                    for param_index, (component, parameter_name) in Model.params.items():\n",
    "                                        if parameter_name is (\"T\"):\n",
    "                                            bgt.set_param(Model, param_index, float(init[str(i)][e]))\n",
    "                                        elif parameter_name is (\"R\"):\n",
    "                                            bgt.set_param(Model, param_index, float(init[str(i)][e]))\n",
    "                        \n",
    "                        \n",
    "                    for k in range(2,11):  # state variables' initial amounts\n",
    "                        if set(annotations[str(i)][a]) == set(list(mapkCascades.values())[0][k]):  \n",
    "                            varID=List[str(i)][a].strip('#')                \n",
    "                            for e in range(len(els[str(i)])):\n",
    "                                if varID == els[str(i)][e]:\n",
    "                                    stateVarsInitials[str(list(mapkCascades.values())[0][k])] = (float(init[str(i)][e]))\n",
    "                                    \n",
    "                    for k in range(11,20):  # K (thermodynamic constants)\n",
    "                        if set(annotations[str(i)][a]) == set(list(mapkCascades.values())[0][k]) and len(annotations[str(i)][a])==len(list(mapkCascades.values())[0][k]): \n",
    "                            varID=List[str(i)][a].strip('#')               \n",
    "                            for e in range(len(els[str(i)])):\n",
    "                                if varID == els[str(i)][e]:\n",
    "                                    for param_index, (component, parameter_name) in Model.params.items():\n",
    "                                        if set(component.name) == set(list(mapkCascades.values())[0][k-9]) and parameter_name is (\"k\"): # Belongs to the component at [k-9]\n",
    "                                            bgt.set_param(Model, param_index, float(init[str(i)][e]))\n",
    "\n",
    "                                    \n",
    "                    for k in range(20,24):                \n",
    "                        if set(annotations[str(i)][a]) == set(list(mapkCascades.values())[0][k]): # reaction rates\n",
    "                            varID=List[str(i)][a].strip('#')\n",
    "                            for e in range(len(els[str(i)])):\n",
    "                                if varID == els[str(i)][e]:\n",
    "                                    for param_index, (component, parameter_name) in Model.params.items():\n",
    "                                        if set(component.name) == set(list(mapkCascades.values())[0][k]) and parameter_name is (\"r\"):\n",
    "                                            bgt.set_param(Model, param_index, float(init[str(i)][e]))\n",
    "       \n",
    "                                        \n",
    "                if i == Loop2:\n",
    "                    \n",
    "                    for k in range(0,2):\n",
    "                        if set(annotations[str(i)][a]) == set(list(mapkCascades.values())[1][k]):  #T & R\n",
    "                            varID=List[str(i)][a].strip('#')                \n",
    "                            for e in range(len(els[str(i)])):\n",
    "                                if varID == els[str(i)][e]:\n",
    "                                    for param_index, (component, parameter_name) in Model.params.items():\n",
    "                                        if parameter_name is (\"T\"):\n",
    "                                            bgt.set_param(Model, param_index, float(init[str(i)][e]))\n",
    "                                        elif parameter_name is (\"R\"):\n",
    "                                            bgt.set_param(Model, param_index, float(init[str(i)][e]))\n",
    "\n",
    "                    for k in range(2,11):\n",
    "                        if set(annotations[str(i)][a]) == set(list(mapkCascades.values())[1][k]):  # state variables' initial amounts\n",
    "                            varID=List[str(i)][a].strip('#')                \n",
    "                            for e in range(len(els[str(i)])):\n",
    "                                if varID == els[str(i)][e]:\n",
    "                                    stateVarsInitials[str(list(mapkCascades.values())[1][k])] = (float(init[str(i)][e]))\n",
    "                                    \n",
    "                    for k in range(11,20):  # K (thermodynamic constants)\n",
    "                        if set(annotations[str(i)][a]) == set(list(mapkCascades.values())[1][k]) and len(annotations[str(i)][a])==len(list(mapkCascades.values())[1][k]): \n",
    "                            varID=List[str(i)][a].strip('#')               \n",
    "                            for e in range(len(els[str(i)])):\n",
    "                                if varID == els[str(i)][e]:\n",
    "                                    for param_index, (component, parameter_name) in Model.params.items():\n",
    "                                        if set(component.name) == set(list(mapkCascades.values())[1][k-9]) and parameter_name is (\"k\"): # Belongs to the component at [k-9]\n",
    "                                            bgt.set_param(Model, param_index, float(init[str(i)][e]))\n",
    "\n",
    "                                    \n",
    "                                    \n",
    "                    for k in range(20,24):                \n",
    "                        if set(annotations[str(i)][a]) == set(list(mapkCascades.values())[1][k]) and len(annotations[str(i)][a])==len(list(mapkCascades.values())[0][k]): # reaction rates\n",
    "                            varID=List[str(i)][a].strip('#')\n",
    "                            for e in range(len(els[str(i)])):\n",
    "                                if varID == els[str(i)][e]:\n",
    "                                    for param_index, (component, parameter_name) in Model.params.items():\n",
    "                                        if set(component.name) == set(list(mapkCascades.values())[1][k]) and parameter_name is (\"r\"):\n",
    "                                            bgt.set_param(Model, param_index, float(init[str(i)][e]))\n",
    "\n",
    "\n",
    "    return[stateVarsInitials]"
   ]
  },
  {
   "cell_type": "code",
   "execution_count": 14,
   "metadata": {},
   "outputs": [],
   "source": [
    "stateVarsInitials=valueAllocation(annotationsMAPK,Loop1,Loop2,mapkCascades,listMAPK,elementsMAPK,initialsMAPK,model)"
   ]
  },
  {
   "cell_type": "code",
   "execution_count": 15,
   "metadata": {
    "code_folding": []
   },
   "outputs": [],
   "source": [
    "# The list of components in the same order to match the rows/columns of the connectivity matrix\n",
    "connectivityBondsRow=[];\n",
    "\n",
    "for a in range(len(Components.keys())): \n",
    "    for i in Components[str(a)]:\n",
    "        connectivityBondsRow.append(Components[str(a)][i])      "
   ]
  },
  {
   "cell_type": "code",
   "execution_count": 16,
   "metadata": {
    "code_folding": [
     0
    ]
   },
   "outputs": [],
   "source": [
    "def CM_whole(CM):\n",
    "    \n",
    "    Length=0\n",
    "    for n in range(len(CM)):\n",
    "        Length+=len(CM[n])\n",
    "    connectivity_matrix_0=np.zeros((Length,Length))  \n",
    "    \n",
    "    k=0\n",
    "    for n in range(len(CM)):\n",
    "        for i in range(k,k+len(CM[n])):\n",
    "            for j in range(k,k+len(CM[n])):\n",
    "                connectivity_matrix_0[i][j]=copy.deepcopy(CM[n][i-k][j-k])\n",
    "        k+=len(CM[n])\n",
    "    return connectivity_matrix_0"
   ]
  },
  {
   "cell_type": "code",
   "execution_count": 17,
   "metadata": {},
   "outputs": [],
   "source": [
    "connectivity_matrix_0=CM_whole(initialCMs)"
   ]
  },
  {
   "cell_type": "code",
   "execution_count": 18,
   "metadata": {
    "code_folding": [
     0
    ]
   },
   "outputs": [],
   "source": [
    "# Inserting \"1\"s in the whole Connectivity Matrix for model composition based on similar annotations\n",
    "add={};  l1=0; l2=0; maxLimitSearch={}; check=0.1\n",
    "\n",
    "# Limits for searching in the indices of the connectivityBondsRow (number of components in each model)\n",
    "for m in initialCMs.keys():\n",
    "    maxLimitSearch[m]=copy.deepcopy(len(initialCMs[m]))\n",
    "    add[m]=[]\n",
    "\n",
    "m=0       \n",
    "for a in range(len(modelNum_commonCompRemove)): \n",
    "    \n",
    "    \n",
    "    if type(modelNum_commonCompRemove[a])==int:\n",
    "\n",
    "        m=0; l1=0; l2=0;\n",
    "        while m<len(maxLimitSearch):\n",
    "            l2 += maxLimitSearch[m]\n",
    "\n",
    "            for i in range(l1,l2):\n",
    "                if set(modelNum_commonCompRemove[a+1].name) == set(connectivityBondsRow[i].name) and connectivityBondsRow[i].metamodel == '0' and type(connectivityBondsRow[i]) is not tuple:\n",
    "                    add[m].append(i)\n",
    "\n",
    "            l1 += maxLimitSearch[m]\n",
    "            m+=1\n",
    "\n",
    "\n",
    "        \n",
    "          \n",
    "for i,j in zip(add[0],add[1]):\n",
    "    connectivity_matrix_0[i][j]=1\n"
   ]
  },
  {
   "cell_type": "code",
   "execution_count": 19,
   "metadata": {
    "code_folding": [
     0
    ]
   },
   "outputs": [],
   "source": [
    "def BondsConnection(connectivity_matrix,CBR):\n",
    "    \n",
    "\n",
    "    # Creating the bonds between the components based on the elements of the connectivity matrix\n",
    "    Length=len(connectivity_matrix)\n",
    "    bonds=[]  \n",
    "    for i in range(Length):\n",
    "        for j in range(Length):\n",
    "            if connectivity_matrix[i][j]==1:\n",
    "                bonds.append((CBR[i],CBR[j]))\n",
    "\n",
    "\n",
    "\n",
    "    \n",
    "    # connecting the components for a bond graph representation of the system\n",
    "    for head, tail in bonds:\n",
    "        bgt.connect(head,tail)\n",
    "\n",
    "    return model"
   ]
  },
  {
   "cell_type": "code",
   "execution_count": 20,
   "metadata": {},
   "outputs": [],
   "source": [
    "model=BondsConnection(connectivity_matrix_0,connectivityBondsRow)"
   ]
  },
  {
   "cell_type": "code",
   "execution_count": 21,
   "metadata": {},
   "outputs": [
    {
     "data": {
      "image/png": "[encoded data removed]",
      "text/plain": [
       "<Figure size 960x720 with 1 Axes>"
      ]
     },
     "metadata": {
      "needs_background": "light"
     },
     "output_type": "display_data"
    }
   ],
   "source": [
    "bgt.draw(model)"
   ]
  },
  {
   "cell_type": "code",
   "execution_count": 22,
   "metadata": {},
   "outputs": [],
   "source": [
    "x0=[]\n",
    "for s in range(len(list(model.state_vars.values()))):\n",
    "\n",
    "    for j in range(len(list(stateVarsInitials[0]))):\n",
    "        q=eval(list(stateVarsInitials[0])[j])\n",
    "        if set(list(model.state_vars.values())[s][0].name) == set(q):\n",
    "            x0.append(list(stateVarsInitials[0].values())[j])\n",
    "    \n"
   ]
  },
  {
   "cell_type": "code",
   "execution_count": 23,
   "metadata": {},
   "outputs": [],
   "source": [
    "# Combining the initial values of the state variables\n",
    "def combineDict(dicts):\n",
    "    incKey = 0\n",
    "    newDict = {}\n",
    "    for val in dicts:\n",
    "        newDict['x_'+str(incKey)] = val \n",
    "        incKey+=1\n",
    "    return newDict"
   ]
  },
  {
   "cell_type": "code",
   "execution_count": 24,
   "metadata": {},
   "outputs": [],
   "source": [
    "x_0=combineDict(x0)"
   ]
  },
  {
   "cell_type": "code",
   "execution_count": 26,
   "metadata": {},
   "outputs": [],
   "source": [
    "t_span = [0,1]\n",
    "t, x = bgt.simulate(model, timespan=t_span, control_vars={}, x0=x_0, dt=0.001)"
   ]
  },
  {
   "cell_type": "code",
   "execution_count": 27,
   "metadata": {},
   "outputs": [
    {
     "data": {
      "text/plain": [
       "Text(0,0.5,'M concentration (mmol)')"
      ]
     },
     "execution_count": 27,
     "metadata": {},
     "output_type": "execute_result"
    },
    {
     "data": {
      "image/png": "[encoded data removed]",
      "text/plain": [
       "<Figure size 432x288 with 1 Axes>"
      ]
     },
     "metadata": {
      "needs_background": "light"
     },
     "output_type": "display_data"
    }
   ],
   "source": [
    "plt.plot(t[0:50],x[0:50,4],'steelblue', linewidth='4')\n",
    "plt.plot(t[0:50],x[0:50,5],'palevioletred', linewidth='4')\n",
    "plt.grid()\n",
    "plt.xlabel('time (s)', fontweight='bold')\n",
    "plt.ylabel('M concentration (mmol)', fontweight='bold')"
   ]
  },
  {
   "cell_type": "code",
   "execution_count": 28,
   "metadata": {},
   "outputs": [
    {
     "data": {
      "text/plain": [
       "Text(0,0.5,'MP concentration (mmol)')"
      ]
     },
     "execution_count": 28,
     "metadata": {},
     "output_type": "execute_result"
    },
    {
     "data": {
      "image/png": "[encoded data removed]",
      "text/plain": [
       "<Figure size 432x288 with 1 Axes>"
      ]
     },
     "metadata": {
      "needs_background": "light"
     },
     "output_type": "display_data"
    }
   ],
   "source": [
    "plt.plot(t[0:50],x[0:50,5],'palevioletred', linewidth='4')\n",
    "plt.grid()\n",
    "plt.xlabel('time (s)', fontweight='bold')\n",
    "plt.ylabel('MP concentration (mmol)', fontweight='bold')"
   ]
  },
  {
   "cell_type": "code",
   "execution_count": null,
   "metadata": {},
   "outputs": [],
   "source": []
  }
 ],
 "metadata": {
  "kernelspec": {
   "display_name": "Python 3",
   "language": "python",
   "name": "python3"
  },
  "language_info": {
   "codemirror_mode": {
    "name": "ipython",
    "version": 3
   },
   "file_extension": ".py",
   "mimetype": "text/x-python",
   "name": "python",
   "nbconvert_exporter": "python",
   "pygments_lexer": "ipython3",
   "version": "3.7.3"
  }
 },
 "nbformat": 4,
 "nbformat_minor": 2
}
