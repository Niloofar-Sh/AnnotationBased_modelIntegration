{
 "cells": [
  {
   "cell_type": "code",
   "execution_count": 45,
   "metadata": {},
   "outputs": [],
   "source": [
    "import BondGraphTools as bgt\n",
    "import matplotlib.pyplot as plt\n",
    "from cycler import cycler\n",
    "import numpy as np\n",
    "import matplotlib.colors\n",
    "from pylab import rcParams\n",
    "import rdflib\n",
    "from lxml import etree\n",
    "import pandas\n",
    "import re\n",
    "import xml.etree.ElementTree as ET\n",
    "import copy\n",
    "import difflib\n",
    "import os"
   ]
  },
  {
   "cell_type": "code",
   "execution_count": 2,
   "metadata": {},
   "outputs": [
    {
     "name": "stderr",
     "output_type": "stream",
     "text": [
      "c:\\users\\nsha457\\appdata\\local\\programs\\python\\python37\\lib\\site-packages\\IPython\\core\\interactiveshell.py:3057: DtypeWarning: Columns (41,71,75,77,99,100,103,113,114,138,140,156,157,158,178,198) have mixed types.Specify dtype option on import or set low_memory=False.\n",
      "  interactivity=interactivity, compiler=compiler, result=result)\n",
      "c:\\users\\nsha457\\appdata\\local\\programs\\python\\python37\\lib\\site-packages\\IPython\\core\\interactiveshell.py:3057: DtypeWarning: Columns (31) have mixed types.Specify dtype option on import or set low_memory=False.\n",
      "  interactivity=interactivity, compiler=compiler, result=result)\n"
     ]
    }
   ],
   "source": [
    "FMA = pandas.read_csv('FMA.csv')\n",
    "CHEBI = pandas.read_csv('CHEBI.csv')\n",
    "OPB = pandas.read_csv('OPB.csv')\n",
    "\n",
    "fmaID = FMA['Class ID']\n",
    "fmaLabel= FMA['Preferred Label']\n",
    "chebiID = CHEBI['Class ID']\n",
    "chebiLabel= CHEBI['Preferred Label']\n",
    "opbID = OPB['Class ID']\n",
    "opbLabel= OPB['Preferred Label']"
   ]
  },
  {
   "cell_type": "code",
   "execution_count": 3,
   "metadata": {
    "code_folding": [
     0
    ]
   },
   "outputs": [],
   "source": [
    "def catRecognition():\n",
    "    \n",
    "    print('Please select the category of the reaction according to the following list:')\n",
    "    \n",
    "    print('\\n')\n",
    "    print('SERCA activation ==> insert \"s\"')\n",
    "    print('tricalcium bis(phosphate) production ==> insert \"t\"')\n",
    "\n",
    "    print('\\n')\n",
    "    \n",
    "    \n",
    "    category=[]\n",
    "    address=[]\n",
    "    \n",
    "    def askForMore(cat,add):\n",
    "        \n",
    "        c=input('Enter the category of the reaction : ')\n",
    "        c=difflib.get_close_matches(c, ['s', 't'])\n",
    "        cat.append(c)\n",
    "        \n",
    "        add.append(input('Enter the location address for the corresponding file : '))\n",
    "        \n",
    "        more=input('More reactions?(Y/N)')\n",
    "     \n",
    "        if more.lower() == 'y':\n",
    "            [cat,add] = askForMore(cat,add)\n",
    "\n",
    "        elif more.lower() != 'y':\n",
    "            return [cat,add]        \n",
    "\n",
    "    askForMore(category,address)\n",
    "\n",
    "    return [category,address]"
   ]
  },
  {
   "cell_type": "markdown",
   "metadata": {},
   "source": [
    "/Users/nsha457/Documents/Jupyter_files/New folder/Diffusion_vars.cellml\n",
    "\n",
    "/Users/nsha457/Documents/Jupyter_files/New folder/Reaction.cellml"
   ]
  },
  {
   "cell_type": "code",
   "execution_count": 4,
   "metadata": {},
   "outputs": [
    {
     "name": "stdout",
     "output_type": "stream",
     "text": [
      "Please select the category of the reaction according to the following list:\n",
      "\n",
      "\n",
      "SERCA activation ==> insert \"s\"\n",
      "tricalcium bis(phosphate) production ==> insert \"t\"\n",
      "\n",
      "\n",
      "Enter the category of the reaction : s\n",
      "Enter the location address for the corresponding file : /Users/nsha457/Documents/Jupyter_files/New folder/Diffusion_vars.cellml\n",
      "More reactions?(Y/N)y\n",
      "Enter the category of the reaction : t\n",
      "Enter the location address for the corresponding file : /Users/nsha457/Documents/Jupyter_files/New folder/Reaction.cellml\n",
      "More reactions?(Y/N)n\n"
     ]
    }
   ],
   "source": [
    "# Here, the category of each reaction is asked along with the file location. Enter the location of the cellml file \n",
    "# similar to the ones above (Markdown Cell)\n",
    "[categories,addresses]=catRecognition()"
   ]
  },
  {
   "cell_type": "code",
   "execution_count": 5,
   "metadata": {
    "code_folding": [
     0
    ]
   },
   "outputs": [],
   "source": [
    "def getAnnotations(add):\n",
    "    parser = etree.XMLParser(recover=True)\n",
    "    root = etree.parse(add, parser).getroot()\n",
    "    rdfGraph = rdflib.Graph()\n",
    "    for rdfElement in root.iter():\n",
    "        if rdfElement.tag.endswith('RDF'):\n",
    "            try:\n",
    "                rdfGraph.parse(data = etree.tostring(rdfElement))\n",
    "            except:\n",
    "                pass\n",
    "            \n",
    "    def getLeaves(sbj, graph):\n",
    "        triples = list(graph.triples((sbj,None,None)))\n",
    "        leaves = []\n",
    "        if len(triples)>0:\n",
    "            for s, p, o in triples:\n",
    "                result =  getLeaves(o,graph)\n",
    "                leaves += result\n",
    "            return list(set(leaves))\n",
    "        else:\n",
    "            return [sbj]\n",
    "        \n",
    "    # Opens the CellML file and returns the list of variables names\n",
    "    base=os.path.basename(add)\n",
    "    f = open(base,'r')\n",
    "    text = f.read()\n",
    "    root = ET.fromstring(text)\n",
    "\n",
    "    rdfs = root.findall('{http://www.w3.org/1999/02/22-rdf-syntax-ns#}RDF')\n",
    "\n",
    "    List1=[]\n",
    "    for child in rdfs:\n",
    "        for grand in child:\n",
    "            List1.append(grand.attrib.get('{http://www.w3.org/1999/02/22-rdf-syntax-ns#}about'))\n",
    "    \n",
    "    List = list(dict.fromkeys(List1))\n",
    "\n",
    "\n",
    "    triplesList={}\n",
    "    for i in range(len(List)):\n",
    "        sbj = rdflib.URIRef(List[i])\n",
    "        triplesList[i]=getLeaves(sbj, rdfGraph)\n",
    "        \n",
    "    # In this part we match the number found in the rdf of the CellML file \n",
    "    # with the ones found in the \"Class IDs\" and \"Preferred Labels\"\n",
    "\n",
    "    annotations1={}\n",
    "\n",
    "    for i in range(len(triplesList)):\n",
    "        annotations1[i]=[]\n",
    "        for k in range(len(triplesList[i])):\n",
    "            l=triplesList[i][k]\n",
    "            if 'opb' in l: \n",
    "                numCell= re.findall(r'\\d+', l) # This will find any number in the string\n",
    "                for j in range(len(opbID)):\n",
    "                    numID=re.findall(r'\\d+', opbID[j])\n",
    "                    if numCell == numID:\n",
    "                        annotations1[i].append(opbLabel[j])\n",
    "            elif 'chebi' in l: \n",
    "                numCell= re.findall(r'\\d+', l) # This will find any number in the string\n",
    "                for j in range(len(chebiID)):\n",
    "                    numID=re.findall(r'\\d+', chebiID[j])\n",
    "                    if numCell == numID:\n",
    "                        annotations1[i].append(chebiLabel[j])\n",
    "            elif 'fma' in l: \n",
    "                numCell= re.findall(r'\\d+', l) # This will find any number in the string\n",
    "                for j in range(len(fmaID)):\n",
    "                    numID=re.findall(r'\\d+', fmaID[j])\n",
    "                    if numCell == numID:\n",
    "                        annotations1[i].append(fmaLabel[j])\n",
    "\n",
    "            elif 'thermodynamic constant' in l.lower():\n",
    "                annotations1[i].append('thermodynamic constant')\n",
    "\n",
    "\n",
    "    for i in range(len(annotations1)):\n",
    "        annotations1[i]=[x.lower() for x in annotations1[i]] \n",
    "        \n",
    "    annotations = {}; k=0;\n",
    "\n",
    "    for key,value in annotations1.items():\n",
    "        if value not in annotations.values():\n",
    "            annotations[k] = value\n",
    "            k+=1\n",
    "        \n",
    "    return [List,annotations,root]"
   ]
  },
  {
   "cell_type": "code",
   "execution_count": 6,
   "metadata": {
    "code_folding": [
     0
    ]
   },
   "outputs": [],
   "source": [
    "def CM_whole(*connectivityMatrices):\n",
    "    cm=list(connectivityMatrices)\n",
    "    \n",
    "    # Creating a dictionary with empty lists for adding the connectivity matrices for each sub-system\n",
    "    CM={}\n",
    "    for n in range(len(cm)):\n",
    "        CM[str(n)]=copy.deepcopy(cm[n])\n",
    "    \n",
    "    Length=0\n",
    "    for n in range(len(cm)):\n",
    "        Length+=len(CM[str(n)])\n",
    "    connectivity_matrix_0=np.zeros((Length,Length))  \n",
    "    \n",
    "    k=0\n",
    "    for n in range(len(cm)):\n",
    "        for i in range(k,k+len(CM[str(n)])):\n",
    "            for j in range(k,k+len(CM[str(n)])):\n",
    "                connectivity_matrix_0[i][j]=copy.deepcopy(CM[str(n)][i-k][j-k])\n",
    "        k+=len(CM[str(n)])\n",
    "    return connectivity_matrix_0"
   ]
  },
  {
   "cell_type": "code",
   "execution_count": 7,
   "metadata": {
    "code_folding": [
     0
    ]
   },
   "outputs": [],
   "source": [
    "def CBR_Gen(*compsList):\n",
    "    CBR=[];\n",
    "    for i in range(len(compsList)):\n",
    "        for j in range(len(compsList[i])):\n",
    "            CBR.append(compsList[i][j])\n",
    "            \n",
    "    return CBR"
   ]
  },
  {
   "cell_type": "code",
   "execution_count": 8,
   "metadata": {
    "code_folding": []
   },
   "outputs": [],
   "source": [
    "def BondsConnection(connectivity_matrix,CBR):\n",
    "    \n",
    "\n",
    "    # Creating the bonds between the components based on the elements of the connectivity matrix\n",
    "    Length=len(connectivity_matrix)\n",
    "    bonds=[]  \n",
    "    for i in range(Length):\n",
    "        for j in range(Length):\n",
    "            if connectivity_matrix[i][j]==1:\n",
    "                bonds.append((CBR[i],CBR[j]))\n",
    "\n",
    "\n",
    "\n",
    "    \n",
    "    # connecting the components for a bond graph representation of the system\n",
    "    for head, tail in bonds:\n",
    "        bgt.connect(head,tail)\n",
    "\n",
    "    return model"
   ]
  },
  {
   "cell_type": "code",
   "execution_count": 9,
   "metadata": {
    "code_folding": [
     0
    ]
   },
   "outputs": [],
   "source": [
    "def valExtraction(annotations,root,List): # Extracting values from the cellml file\n",
    "    \n",
    "    keytoAmounts=[]; varID=[]; variables=[]; els=[]; init=[];\n",
    "\n",
    "    components = root.findall('{http://www.cellml.org/cellml/1.1#}component')\n",
    "\n",
    "\n",
    "    for comp in components:\n",
    "        variables.append(comp.findall('{http://www.cellml.org/cellml/1.1#}variable'))\n",
    "\n",
    "\n",
    "    for var in variables:\n",
    "        for v in var:   ################ Here search for the listID elements in the variables and initials\n",
    "            els.append(v.attrib['{http://www.cellml.org/metadata/1.0#}id'])   \n",
    "\n",
    "            if 'initial_value' in v.attrib: # if any initial value exists take it\n",
    "                init.append(v.attrib['initial_value'])    \n",
    "            else:\n",
    "                init.append(None)\n",
    "    return[els,init]"
   ]
  },
  {
   "cell_type": "code",
   "execution_count": 10,
   "metadata": {
    "code_folding": [
     0
    ]
   },
   "outputs": [],
   "source": [
    "def diffModelMaker(Model,annotations,List,els,init):\n",
    "    Diff_Dict={0: ['temperature'],1: ['ideal gas constant'], 2: ['serca activator','reaction rate constant'], # Kappa\n",
    "                  3: ['extracellular space','calcium cation','concentration of chemical'],  # q_A (Ca2+ extra)\n",
    "                  4: ['cytosol of cardiac myocyte','calcium cation','concentration of chemical'], # q_B (Ca2+ cytosol)\n",
    "                  5: ['extracellular space','calcium cation','concentration of chemical', 'thermodynamic constant'], # K_A\n",
    "                  6: ['cytosol of cardiac myocyte','calcium cation','concentration of chemical', 'thermodynamic constant']}\n",
    "\n",
    "    # BG model\n",
    "    A = bgt.new(\"Ce\", name=Diff_Dict[3], library=\"BioChem\")\n",
    "    B = bgt.new(\"Ce\", name=Diff_Dict[4], library=\"BioChem\")\n",
    "    zeroJunctionA = bgt.new(\"0\", name=Diff_Dict[3])\n",
    "    zeroJunctionB = bgt.new(\"0\", name=Diff_Dict[4])\n",
    "    oneJunctionA = bgt.new(\"1\", name=Diff_Dict[3])\n",
    "    oneJunctionB = bgt.new(\"1\", name=Diff_Dict[4])\n",
    "    reaction = bgt.new(\"Re\",name=Diff_Dict[2], library=\"BioChem\")\n",
    "    \n",
    "    Components={0:A, 1:B, 2:reaction, 3:zeroJunctionA, 4:zeroJunctionB, 5:oneJunctionA, 6:oneJunctionB} \n",
    "    mergeableComponents=[A, B, zeroJunctionA, zeroJunctionB]\n",
    "\n",
    "    # Adding the components to the model\n",
    "    \n",
    "    for k,v in Components.items():\n",
    "        bgt.add(Model,v)\n",
    "    \n",
    "    connectivityMatrix=np.zeros((7,7))\n",
    "    connectivityMatrix[0][2]=1; connectivityMatrix[2][4]=1; connectivityMatrix[3][1]=1; connectivityMatrix[4][6]=1;\n",
    "    connectivityMatrix[5][3]=1; connectivityMatrix[6][5]=1;\n",
    "    \n",
    "    cm=[]\n",
    "    for i in range(len(connectivityMatrix)):\n",
    "        cm.append(list(connectivityMatrix[i]))\n",
    "\n",
    "    connectivityBondsRow=[A, B,zeroJunctionA, zeroJunctionB, oneJunctionA, oneJunctionB, reaction]\n",
    "    \n",
    "\n",
    "    stateVarsInitials={}   \n",
    "        \n",
    "    for a in range(len(annotations)):\n",
    "        if set(annotations[a]) == set(Diff_Dict[0]):  #T\n",
    "            varID=List[a].strip('#')\n",
    "\n",
    "            for e in range(len(els)):\n",
    "                if varID == els[e]:\n",
    "                    for param_index, (component, parameter_name) in Model.params.items():\n",
    "                        if parameter_name is (\"T\"):\n",
    "                            bgt.set_param(Model, param_index, float(init[e]))\n",
    "                            \n",
    "\n",
    "        elif set(annotations[a]) == set(Diff_Dict[1]): #R\n",
    "            varID=List[a].strip('#')\n",
    "\n",
    "            for e in range(len(els)):\n",
    "                if varID == els[e]:\n",
    "                    for param_index, (component, parameter_name) in Model.params.items():\n",
    "                        if parameter_name is (\"R\"):\n",
    "                            bgt.set_param(Model, param_index, float(init[e]))\n",
    "\n",
    "        elif set(annotations[a]) == set(Diff_Dict[2]): # SERCA reaction rate\n",
    "            varID=List[a].strip('#')\n",
    "\n",
    "            for e in range(len(els)):\n",
    "                if varID == els[e]:\n",
    "                    for param_index, (component, parameter_name) in Model.params.items():\n",
    "                        if component.name is Diff_Dict[2] and parameter_name is (\"r\"):\n",
    "                            bgt.set_param(Model, param_index, float(init[e]))\n",
    "\n",
    "\n",
    "        elif set(annotations[a]) == set(Diff_Dict[5]): #K_A\n",
    "            varID=List[a].strip('#')\n",
    "\n",
    "            for e in range(len(els)):\n",
    "                if varID == els[e]:\n",
    "                    for param_index, (component, parameter_name) in Model.params.items():\n",
    "                        if component.name is Diff_Dict[3] and parameter_name is (\"k\"):\n",
    "                            bgt.set_param(Model, param_index, float(init[e]))\n",
    "\n",
    "\n",
    "        elif set(annotations[a]) == set(Diff_Dict[6]): #K_B\n",
    "            varID=List[a].strip('#')\n",
    "\n",
    "            for e in range(len(els)):\n",
    "                if varID == els[e]:\n",
    "                    for param_index, (component, parameter_name) in Model.params.items():\n",
    "                        if component.name is Diff_Dict[4] and parameter_name is (\"k\"):\n",
    "                            bgt.set_param(Model, param_index, float(init[e]))\n",
    "\n",
    "\n",
    "        elif set(annotations[a]) == set(Diff_Dict[3]): #q_A\n",
    "            varID=List[a].strip('#')\n",
    "\n",
    "            for e in range(len(els)):\n",
    "                if varID == els[e]:\n",
    "                    stateVarsInitials[str(set(Diff_Dict[3]))] = (float(init[e]))\n",
    "\n",
    "        elif set(annotations[a]) == set(Diff_Dict[4]):  #q_B\n",
    "            varID=List[a].strip('#')\n",
    "\n",
    "            for e in range(len(els)):\n",
    "                if varID == els[e]:\n",
    "                    stateVarsInitials[str(set(Diff_Dict[4]))] = (float(init[e]))\n",
    "\n",
    "\n",
    "\n",
    "    \n",
    "    return[stateVarsInitials,cm,connectivityBondsRow,mergeableComponents,Components]\n",
    "     "
   ]
  },
  {
   "cell_type": "code",
   "execution_count": 11,
   "metadata": {
    "code_folding": [
     0
    ]
   },
   "outputs": [],
   "source": [
    "def reactModelMaker( Model,annotations,List,els,init):\n",
    "\n",
    "    React_Dict={0: ['temperature'],\n",
    "     1: ['ideal gas constant'], \n",
    "     2: ['tricalcium bis(phosphate)','reaction rate constant'],\n",
    "     3: ['cytosol of cardiac myocyte','calcium cation','concentration of chemical'], # q_B (Ca2+)\n",
    "     4: ['cytosol of cardiac myocyte','phosphate ion','concentration of chemical'], # q_A (PO4(3-))\n",
    "     5: ['cytosol of cardiac myocyte','tricalcium bis(phosphate)','concentration of chemical'], # q_C (Ca3PO4(2))\n",
    "     6: ['cytosol of cardiac myocyte','calcium cation','concentration of chemical', 'thermodynamic constant'], # K_B (Ca2+) \n",
    "     7: ['cytosol of cardiac myocyte','phosphate ion','concentration of chemical', 'thermodynamic constant'], # K_A (PO4(3-)) \n",
    "     8: ['cytosol of cardiac myocyte','tricalcium bis(phosphate)','concentration of chemical','thermodynamic constant'], # K_C (Ca3PO4(2))\n",
    "     9: ['cytosol of cardiac myocyte', 'calcium cation','molar amount of chemical'], #stoi_B (Ca2+)\n",
    "     10: ['cytosol of cardiac myocyte', 'phosphate ion','molar amount of chemical'],  #stoi_A (PO4(3-))\n",
    "     11: ['cytosol of cardiac myocyte', 'tricalcium bis(phosphate)','molar amount of chemical'] #stoi_C (Ca3PO4(2))\n",
    "           }\n",
    "\n",
    "    # BG model of a model of 3 species\n",
    "    A = bgt.new(\"Ce\", name=React_Dict[4], library=\"BioChem\")\n",
    "    B = bgt.new(\"Ce\", name=React_Dict[3], library=\"BioChem\")\n",
    "    C = bgt.new(\"Ce\", name=React_Dict[5], library=\"BioChem\")\n",
    "\n",
    "    reaction = bgt.new(\"Re\" , name=React_Dict[2] , library=\"BioChem\")\n",
    "\n",
    "    TF_A=bgt.new(\"TF\", name=React_Dict[10])\n",
    "    TF_B=bgt.new(\"TF\", name=React_Dict[9])\n",
    "    TF_C=bgt.new(\"TF\", name=React_Dict[11])\n",
    "\n",
    "    zeroJunctionA = bgt.new(\"0\", name=React_Dict[4])\n",
    "    zeroJunctionB = bgt.new(\"0\", name=React_Dict[3])\n",
    "    zeroJunctionC = bgt.new(\"0\", name=React_Dict[5])\n",
    "\n",
    "    oneJunctionReactants = bgt.new(\"1\", name=\"oneReacts\")\n",
    "    oneJunctionProducts = bgt.new(\"1\", name=\"oneProds\")\n",
    "\n",
    "    \n",
    "    Components={0:A, 1:B, 2:C, 3:reaction, 4:TF_A, 5:TF_B, 6:TF_C, 7:zeroJunctionA, 8:zeroJunctionB,\n",
    "               9:zeroJunctionC, 10:oneJunctionReactants, 11:oneJunctionProducts}\n",
    "    mergeableComponents=[A, B, C, zeroJunctionA, zeroJunctionB, zeroJunctionC]\n",
    "    \n",
    "    # Adding the components to the model\n",
    "    \n",
    "    for k,v in Components.items():\n",
    "        bgt.add(Model,v)\n",
    "        \n",
    "    connectivityMatrix=np.zeros((15,15))\n",
    "    connectivityMatrix[0][3]=1; connectivityMatrix[1][4]=1; connectivityMatrix[3][6]=1; connectivityMatrix[4][7]=1;\n",
    "    connectivityMatrix[5][2]=1; connectivityMatrix[9][11]=1; connectivityMatrix[10][8]=1; connectivityMatrix[11][10]=1;\n",
    "    connectivityMatrix[12][9]=1; connectivityMatrix[13][9]=1; connectivityMatrix[14][5]=1;\n",
    "    \n",
    "    cm=[]\n",
    "    for i in range(len(connectivityMatrix)):\n",
    "        cm.append(list(connectivityMatrix[i]))\n",
    "        \n",
    "    connectivityBondsRow=[A, B, C,zeroJunctionA, zeroJunctionB, zeroJunctionC,(TF_A,0),(TF_B,0) , (TF_C,0),oneJunctionReactants, oneJunctionProducts, reaction,(TF_A,1),(TF_B,1),(TF_C,1)]\n",
    "    \n",
    "#     \n",
    "    \n",
    "    stateVarsInitials={}\n",
    "    \n",
    "    for a in range(len(annotations)):\n",
    "        if set(annotations[a]) == set(React_Dict[0]):  #T\n",
    "            varID=List[a].strip('#')\n",
    "\n",
    "            for e in range(len(els)):\n",
    "                if varID == els[e]:\n",
    "                    for param_index, (component, parameter_name) in Model.params.items():\n",
    "                        if parameter_name is (\"T\"):\n",
    "                            bgt.set_param(Model, param_index, float(init[e]))\n",
    "                            \n",
    "\n",
    "        elif set(annotations[a]) == set(React_Dict[1]): #R\n",
    "            varID=List[a].strip('#')\n",
    "\n",
    "            for e in range(len(els)):\n",
    "                if varID == els[e]:\n",
    "                    for param_index, (component, parameter_name) in Model.params.items():\n",
    "                        if parameter_name is (\"R\"):\n",
    "                            bgt.set_param(Model, param_index, float(init[e]))\n",
    "\n",
    "        elif set(annotations[a]) == set(React_Dict[2]): # reaction rate\n",
    "            varID=List[a].strip('#')\n",
    "\n",
    "            for e in range(len(els)):\n",
    "                if varID == els[e]:\n",
    "                    for param_index, (component, parameter_name) in Model.params.items():\n",
    "                        if component.name is React_Dict[2] and parameter_name is (\"r\"):\n",
    "                            bgt.set_param(Model, param_index, float(init[e]))\n",
    "\n",
    "\n",
    "        elif set(annotations[a]) == set(React_Dict[7]): #K_A\n",
    "            varID=List[a].strip('#')\n",
    "\n",
    "            for e in range(len(els)):\n",
    "                if varID == els[e]:\n",
    "                    for param_index, (component, parameter_name) in Model.params.items():\n",
    "                        if component.name is React_Dict[4] and parameter_name is (\"k\"):\n",
    "                            bgt.set_param(Model, param_index, float(init[e]))\n",
    "\n",
    "\n",
    "\n",
    "        elif set(annotations[a]) == set(React_Dict[6]): #K_B\n",
    "            varID=List[a].strip('#')\n",
    "\n",
    "            for e in range(len(els)):\n",
    "                if varID == els[e]:\n",
    "                    for param_index, (component, parameter_name) in Model.params.items():\n",
    "                        if component.name is React_Dict[3] and parameter_name is (\"k\"):\n",
    "                            bgt.set_param(Model, param_index, float(init[e]))\n",
    "\n",
    "        elif set(annotations[a]) == set(React_Dict[8]): #K_C\n",
    "            varID=List[a].strip('#')\n",
    "\n",
    "            for e in range(len(els)):\n",
    "                if varID == els[e]:\n",
    "                    for param_index, (component, parameter_name) in Model.params.items():\n",
    "                        if component.name is React_Dict[5] and parameter_name is (\"k\"):\n",
    "                            bgt.set_param(Model, param_index, float(init[e]))\n",
    "\n",
    "        elif set(annotations[a]) == set(React_Dict[9]): #stoi_B\n",
    "            varID=List[a].strip('#')\n",
    "\n",
    "            for e in range(len(els)):\n",
    "                if varID == els[e]:\n",
    "                    for param_index, (component, parameter_name) in Model.params.items():\n",
    "                        if component.name is React_Dict[9] and parameter_name is (\"r\"):\n",
    "                            bgt.set_param(Model, param_index, float(init[e]))\n",
    "\n",
    "        elif set(annotations[a]) == set(React_Dict[10]): #stoi_A\n",
    "            varID=List[a].strip('#')\n",
    "\n",
    "            for e in range(len(els)):\n",
    "                if varID == els[e]:\n",
    "                    for param_index, (component, parameter_name) in Model.params.items():\n",
    "                        if component.name is React_Dict[10] and parameter_name is (\"r\"):\n",
    "                            bgt.set_param(Model, param_index, float(init[e]))\n",
    "\n",
    "        elif set(annotations[a]) == set(React_Dict[11]): #stoi_C\n",
    "            varID=List[a].strip('#')\n",
    "\n",
    "            for e in range(len(els)):\n",
    "                if varID == els[e]:\n",
    "                    for param_index, (component, parameter_name) in Model.params.items():\n",
    "                        if component.name is React_Dict[11] and parameter_name is (\"r\"):\n",
    "                            bgt.set_param(Model, param_index, 1/float(init[e]))\n",
    "\n",
    "\n",
    "        elif set(annotations[a]) == set(React_Dict[4]): #q_A\n",
    "            varID=List[a].strip('#')\n",
    "\n",
    "            for e in range(len(els)):\n",
    "                if varID == els[e]:\n",
    "                    stateVarsInitials[str(set(React_Dict[4]))] = (float(init[e]))\n",
    "\n",
    "        elif set(annotations[a]) == set(React_Dict[3]):  #q_B\n",
    "            varID=List[a].strip('#')\n",
    "\n",
    "            for e in range(len(els)):\n",
    "                if varID == els[e]:\n",
    "                    stateVarsInitials[str(set(React_Dict[3]))] = (float(init[e]))\n",
    "\n",
    "        elif set(annotations[a]) == set(React_Dict[5]):  #q_C\n",
    "            varID=List[a].strip('#')\n",
    "\n",
    "            for e in range(len(els)):\n",
    "                if varID == els[e]:\n",
    "                    stateVarsInitials[str(set(React_Dict[5]))] = (float(init[e]))\n",
    "\n",
    "\n",
    "       \n",
    "    return [stateVarsInitials,cm,connectivityBondsRow,mergeableComponents,Components]"
   ]
  },
  {
   "cell_type": "code",
   "execution_count": 12,
   "metadata": {
    "code_folding": [
     0
    ]
   },
   "outputs": [],
   "source": [
    "def checkMutual(category,annotationsA,annotationsB,listA,listB,AEls,BEls,AInit,BInit): # Checking for similar annotations \n",
    "    \n",
    "    if len(category)>1: # if more than one reaction is added, there's a probability of mutual annotations\n",
    "        commonAnnots=[]; ACommonAmount=[]; BCommonAmount=[]\n",
    "        for a1 in range(len(annotationsA)):\n",
    "            for a2 in range(len(annotationsB)):\n",
    "                if set(annotationsA[a1]) == set(annotationsB[a2]) and annotationsA[a1] !=[]: # if similar annotations found, then check if the values differ or not\n",
    "\n",
    "                    commonAnnots.append(annotationsA[a1])\n",
    "\n",
    "\n",
    "                    varIDA=listA[a1].strip('#')\n",
    "                    for e in range(len(AEls)):\n",
    "                        if varIDA == AEls[e]:\n",
    "                            ACommonAmount.append(AInit[e])\n",
    "\n",
    "                    varIDB=listB[a2].strip('#')\n",
    "                    for e in range(len(BEls)):\n",
    "                        if varIDB == BEls[e]:\n",
    "                            BCommonAmount.append(BInit[e])\n",
    "\n",
    "\n",
    "    for i in ACommonAmount[:]:  # If the common annotations have same values, remove it from the list of Commons\n",
    "        if i in BCommonAmount:\n",
    "            commonAnnots.pop(ACommonAmount.index(i))\n",
    "            ACommonAmount.remove(i)\n",
    "            BCommonAmount.remove(i)\n",
    "\n",
    "\n",
    "    for i in range(len(commonAnnots)):\n",
    "        print('Different values found for: ')\n",
    "        print('\\n')\n",
    "        print(commonAnnots[i] , ':' , ACommonAmount[i] , 'and' , BCommonAmount[i])   \n",
    "        ACommonAmount[i]=copy.deepcopy(input('Enter the preferred value:'))\n",
    "        BCommonAmount[i]=copy.deepcopy(ACommonAmount[i])\n",
    "        \n",
    "    for i in range(len(commonAnnots)):\n",
    "        for j in range(len(annotationsA)):\n",
    "            if set(commonAnnots[i]) == set(annotationsA[j]):\n",
    "                varIDA=listA[j].strip('#')\n",
    "                for e in range(len(AEls)):\n",
    "                    if varIDA == AEls[e]:\n",
    "                        AInit[e]=copy.deepcopy(ACommonAmount[i])\n",
    "                \n",
    "        for k in range(len(annotationsB)):\n",
    "            if set(commonAnnots[i]) == set(annotationsB[k]):\n",
    "                varIDB=listB[k].strip('#')\n",
    "                for e in range(len(BEls)):\n",
    "                    if varIDB == BEls[e]:\n",
    "                        BInit[e]=copy.deepcopy(BCommonAmount[i])\n",
    "                \n",
    "    \n",
    "    return [commonAnnots,AInit,BInit]"
   ]
  },
  {
   "cell_type": "code",
   "execution_count": 13,
   "metadata": {
    "code_folding": []
   },
   "outputs": [
    {
     "name": "stdout",
     "output_type": "stream",
     "text": [
      "Different values found for: \n",
      "\n",
      "\n",
      "['calcium cation', 'thermodynamic constant', 'concentration of chemical', 'cytosol of cardiac myocyte'] : 5263.6085 and 30\n",
      "Enter the preferred value:3000\n",
      "Different values found for: \n",
      "\n",
      "\n",
      "['calcium cation', 'concentration of chemical', 'cytosol of cardiac myocyte'] : 0 and 0.5\n",
      "Enter the preferred value:0.5\n"
     ]
    }
   ],
   "source": [
    "# Creating lists of variables & annotations & values for each reaction\n",
    "for i in range(len(categories)):\n",
    "    if categories[i][0] == 's':\n",
    "        [listDiff,diffAnnotations,rootDiff]=getAnnotations(addresses[i])        \n",
    "        [diffEls,diffInit]=valExtraction(diffAnnotations,rootDiff,listDiff)\n",
    "                \n",
    "    elif categories[i][0] == \"t\":\n",
    "        [listReact,reactAnnotations,rootReact]=getAnnotations(addresses[i])        \n",
    "        [reactEls,reactInit]=valExtraction(reactAnnotations,rootReact,listReact)\n",
    "        \n",
    "[commonAnnotations,diffInit,reactInit]=checkMutual(categories,diffAnnotations,reactAnnotations,listDiff,listReact,diffEls,reactEls,diffInit,reactInit)        \n",
    "\n"
   ]
  },
  {
   "cell_type": "code",
   "execution_count": 85,
   "metadata": {},
   "outputs": [],
   "source": [
    "model=bgt.new(name='...')"
   ]
  },
  {
   "cell_type": "code",
   "execution_count": 86,
   "metadata": {},
   "outputs": [],
   "source": [
    "# Creating the BG model and its requirements (such as connectivity matrix, components, ...) for each reaction\n",
    "[x0_diff,connectivityMatrixDiff,rowDiff,mergeablesDiff,componentsDiff]=diffModelMaker( model,diffAnnotations,listDiff,diffEls,diffInit)\n",
    "\n",
    "[x0_react,connectivityMatrixReact,rowReact,mergeablesReact,componentsReact]=reactModelMaker(model,reactAnnotations,listReact,reactEls,reactInit)"
   ]
  },
  {
   "cell_type": "code",
   "execution_count": 87,
   "metadata": {
    "code_folding": [
     0
    ]
   },
   "outputs": [],
   "source": [
    "for a in commonAnnotations:   # check if the common annotations found, are among the mergeable components?\n",
    "    for m in mergeablesDiff:\n",
    "        if set(a) == set(m.name) and m.metamodel == 'C':    # if YES, find the corresponding species (C) in the compsRow and remove it             \n",
    "            for j in range(len(rowDiff)):\n",
    "                if set(m.name) == set(rowDiff[j].name) and rowDiff[j].metamodel == 'C':\n",
    "                    \n",
    "                    for i in range(len(connectivityMatrixDiff)):\n",
    "                        connectivityMatrixDiff[i].pop(j)  # also, remove the corresponding column in the CM   \n",
    "                    del connectivityMatrixDiff[j]  # Delete the corresponding row\n",
    "                    del rowDiff[j]\n",
    "                    break           "
   ]
  },
  {
   "cell_type": "code",
   "execution_count": 88,
   "metadata": {
    "code_folding": [
     0
    ]
   },
   "outputs": [],
   "source": [
    "# Remove one of the mutual species from the \"model components\"\n",
    "comsList=list(model.components)\n",
    "\n",
    "for a in range(len(commonAnnotations)):  \n",
    "    for m in mergeablesDiff:\n",
    "        if set(commonAnnotations[a]) == set(m.name) and m.metamodel == 'C': \n",
    "            count=0\n",
    "            for k in comsList:\n",
    "                \n",
    "                if set(k.name) == set(m.name) and k.metamodel == 'C' :\n",
    "                    count+=1\n",
    "                    if count ==1:\n",
    "                        bgt.remove(model,k)\n",
    "                        \n"
   ]
  },
  {
   "cell_type": "code",
   "execution_count": 89,
   "metadata": {},
   "outputs": [],
   "source": [
    "# By having the connectivity matrix for each system, join them in one whole matrix\n",
    "connectivityMatrixAll=CM_whole(connectivityMatrixDiff,connectivityMatrixReact)                "
   ]
  },
  {
   "cell_type": "code",
   "execution_count": 90,
   "metadata": {},
   "outputs": [],
   "source": [
    "# The array of the components for the whole merged system which includes the ports for connections\n",
    "allRow=CBR_Gen(rowDiff,rowReact)\n"
   ]
  },
  {
   "cell_type": "code",
   "execution_count": 91,
   "metadata": {
    "code_folding": []
   },
   "outputs": [],
   "source": [
    "# Inserting \"1\"s in the whole Connectivity Matric for models composition based on similar annotations\n",
    "add=[]\n",
    "for a in commonAnnotations:  \n",
    "    for m in mergeablesDiff:\n",
    "        if set(a) == set(m.name):    # if it's among mergeables             \n",
    "            for i in range(len(allRow)):\n",
    "                if type(allRow[i]) is not tuple:   # Ignoring the (TF,0) & (TF,1) which are 'tuple'\n",
    "                    if set(m.name) == set(allRow[i].name) and allRow[i].metamodel == '0':\n",
    "                         add.append(i)\n",
    "            \n",
    "\n",
    "\n",
    "\n",
    "                    else:\n",
    "                        pass\n",
    "\n",
    "\n",
    "                else:\n",
    "                    pass\n",
    "        else:\n",
    "            pass\n",
    "\n",
    "\n",
    "for i in range(0,len(add),2):\n",
    "\n",
    "    connectivityMatrixAll[add[i]][add[i+1]]=1\n"
   ]
  },
  {
   "cell_type": "code",
   "execution_count": 92,
   "metadata": {
    "code_folding": []
   },
   "outputs": [],
   "source": [
    "x0_diff.update(x0_react) # Merges the two dictionaries and deletes the mutual ones"
   ]
  },
  {
   "cell_type": "code",
   "execution_count": 93,
   "metadata": {},
   "outputs": [],
   "source": [
    "# Combining the initial values of the state variables\n",
    "def combineDict(dicts):\n",
    "    incKey = 0\n",
    "    newDict = {}\n",
    "    for key,val in dicts.items():\n",
    "        newDict['x_'+str(incKey)] = val \n",
    "        incKey+=1\n",
    "    return newDict"
   ]
  },
  {
   "cell_type": "code",
   "execution_count": 94,
   "metadata": {},
   "outputs": [],
   "source": [
    "x0=combineDict(x0_diff)"
   ]
  },
  {
   "cell_type": "code",
   "execution_count": 95,
   "metadata": {},
   "outputs": [],
   "source": [
    "model=BondsConnection(connectivityMatrixAll,allRow)"
   ]
  },
  {
   "cell_type": "code",
   "execution_count": 96,
   "metadata": {},
   "outputs": [],
   "source": [
    "t_span = [0,3]\n",
    "t, x = bgt.simulate(model, timespan=t_span, control_vars={}, x0=x0, dt=0.0001)\n"
   ]
  },
  {
   "cell_type": "code",
   "execution_count": 97,
   "metadata": {},
   "outputs": [
    {
     "data": {
      "image/png": "[encoded data removed]",
      "text/plain": [
       "<Figure size 432x288 with 1 Axes>"
      ]
     },
     "metadata": {
      "needs_background": "light"
     },
     "output_type": "display_data"
    }
   ],
   "source": [
    "color=plt.cm.rainbow(np.linspace(0,1,len(model.state_vars)))\n",
    "\n",
    "for i,c in zip(range(len(model.state_vars)),color): \n",
    "    plt.plot(t,x[:,i],c=c, label=list(model.state_vars.values())[i][0])\n",
    "       \n",
    "plt.xlabel(\"time (s)\")\n",
    "plt.ylabel(\"molar amount (mol/m3)\")\n",
    "plt.legend(bbox_to_anchor=(1.05, 1), loc='upper left',borderaxespad= 0.)\n",
    "plt.grid()\n"
   ]
  },
  {
   "cell_type": "code",
   "execution_count": null,
   "metadata": {},
   "outputs": [],
   "source": []
  }
 ],
 "metadata": {
  "kernelspec": {
   "display_name": "Python 3",
   "language": "python",
   "name": "python3"
  },
  "language_info": {
   "codemirror_mode": {
    "name": "ipython",
    "version": 3
   },
   "file_extension": ".py",
   "mimetype": "text/x-python",
   "name": "python",
   "nbconvert_exporter": "python",
   "pygments_lexer": "ipython3",
   "version": "3.7.3"
  }
 },
 "nbformat": 4,
 "nbformat_minor": 2
}
